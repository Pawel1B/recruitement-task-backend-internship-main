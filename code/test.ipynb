{
 "cells": [
  {
   "cell_type": "markdown",
   "metadata": {},
   "source": [
    "data_loader"
   ]
  },
  {
   "cell_type": "code",
   "execution_count": 3,
   "metadata": {},
   "outputs": [],
   "source": [
    "import os\n",
    "from os import walk\n",
    "import numpy as np\n",
    "import pandas as pd\n",
    "import xml.etree.ElementTree as ET"
   ]
  },
  {
   "cell_type": "code",
   "execution_count": 136,
   "metadata": {},
   "outputs": [
    {
     "name": "stdout",
     "output_type": "stream",
     "text": [
      "['../data/users_2.xml', '../data\\\\a/users.json', '../data\\\\a\\\\b/users_1.csv', '../data\\\\a\\\\b/users_1.xml', '../data\\\\a\\\\c/users_2.csv']\n"
     ]
    }
   ],
   "source": [
    "OS_PATH=\"../data\"\n",
    "\n",
    "\n",
    "def format_read_xml(file_path):\n",
    "    tree=ET.parse(file_path)\n",
    "    all_users=tree.getroot()#users\n",
    "    users=[]\n",
    "    for user in all_users:\n",
    "        firstName=user[0].text\n",
    "        telephone_number=user[1].text\n",
    "        email=user[2].text\n",
    "        password=user[3].text\n",
    "        role=user[4].text\n",
    "        created_at=user[5].text\n",
    "        children=[]\n",
    "        for child in user[6]:\n",
    "            new_child=[child[0].text, child[1].text]\n",
    "            children.append(new_child)\n",
    "        users.append([firstName, telephone_number, email, password, role, created_at, children])\n",
    "    return users\n",
    "\n",
    "\n",
    "def get_string_between(string, start_char, stop_char):#function that can be usefull\n",
    "    index_1=string.index(start_char)\n",
    "    index_2=string.index(stop_char)\n",
    "    return string[(index_1 + len(start_char)) : index_2]\n",
    "def format_read_csv(data):#change format to same as stated in xml for ease of transformation and verification\n",
    "    for index, item in enumerate(data):\n",
    "        children=[]\n",
    "        if len(str(item[6]))>3:\n",
    "            children_str=item[6]\n",
    "            children_str=children_str.split(',')\n",
    "            for child_str in children_str:\n",
    "                name=child_str[:child_str.index('(')]\n",
    "                age=get_string_between(child_str, '(', ')')\n",
    "                children.append([name, age])\n",
    "\n",
    "        data[index][6]=children\n",
    "    return data\n",
    "\n",
    "\n",
    "def format_read_json(data):\n",
    "    # print(data)\n",
    "    for index, item in enumerate(data):\n",
    "        data[index][5]=str(item[5])#timestamp to string\n",
    "        children=[]\n",
    "        if item[6]!=[]:\n",
    "            children_list=item[6]\n",
    "            for child_dict in children_list:\n",
    "                name=child_dict['name']\n",
    "                age=child_dict['age']\n",
    "                children.append([name, age])\n",
    "        data[index][6]=children\n",
    "    return data\n",
    "\n",
    "\n",
    "def get_file_paths(data_folader_path):\n",
    "    final_paths=[]\n",
    "    supported_formats=[\".csv\", \".xml\", \".json\"]\n",
    "    w=walk(data_folader_path)\n",
    "    for (dirpath, dirnames, filenames) in w:\n",
    "        for filename in filenames:\n",
    "            for supported_format in supported_formats:\n",
    "                if supported_format in filename[-5:]:#checcks last substring\n",
    "                    final_paths.append(dirpath+\"/\"+filename)\n",
    "                    break\n",
    "    return(final_paths)\n",
    "\n",
    "def get_file_contents(file_path):\n",
    "    supported_formats=[\".csv\", \".xml\", \".json\"]\n",
    "\n",
    "    if supported_formats[0] in file_path[-5:]:#csv\n",
    "        return format_read_csv(pd.read_csv(file_path, delimiter=\";\").to_numpy().tolist())\n",
    "\n",
    "    if supported_formats[1] in file_path[-5:]:#xml\n",
    "        return format_read_xml(file_path)\n",
    "\n",
    "    if supported_formats[2] in file_path[-5:]:#json\n",
    "        return format_read_json(pd.read_json(file_path).to_numpy().tolist())\n",
    "\n",
    "def load_data(data_folader_path):\n",
    "    data_packs=[]\n",
    "    file_paths=get_file_paths(data_folader_path)\n",
    "    for file_path in file_paths:\n",
    "        data_packs.append(get_file_contents(file_path))\n",
    "    data=[item for file_sublist in data_packs for item in file_sublist]\n",
    "    return data\n",
    "data=(load_data(OS_PATH))\n",
    "\n",
    "file_paths=get_file_paths(OS_PATH)\n",
    "print(get_file_paths(OS_PATH))\n"
   ]
  },
  {
   "cell_type": "code",
   "execution_count": 144,
   "metadata": {},
   "outputs": [],
   "source": [
    "import data_loader"
   ]
  },
  {
   "cell_type": "code",
   "execution_count": 145,
   "metadata": {},
   "outputs": [],
   "source": [
    "data=data_loader.load_data(data_loader.OS_PATH)"
   ]
  },
  {
   "cell_type": "code",
   "execution_count": 146,
   "metadata": {},
   "outputs": [
    {
     "name": "stdout",
     "output_type": "stream",
     "text": [
      "[['Russell', '+48817730653', 'jwilliams@example.com', '4^8(Oj52C+', 'admin', '2023-05-15 21:57:02', [['Rebecca', '11'], ['Christie', '17']]], ['Dawn', '+48717279856', 'briancollins@example.net', 'R9AjA5nb$!', 'admin', '2023-11-13 01:28:53', [['Andrew', '3'], ['Nicholas', '13']]], ['Bryan', '(48)242024650', 'billy59@example.com', '%ML4fCTmiz', 'user', '2023-06-25 06:56:34', [['Frank', '11']]], ['Joseph', '018820162', 'justin81@example.org', '*0pED9u@8b', 'user', '2023-01-30 18:52:20', [['Wendy', '3'], ['Mark', '2'], ['April', '18']]], ['Sarah', '318506164', 'johnperry@example.com', 'bd6GvDNA!+', 'admin', '2023-09-27 15:27:18', [['Rachel', '8'], ['Bradley', '13']]], ['Teresa', '00522263177', 'fpage@example.net', 'hJ@2Kbg2tF', 'admin', '2023-11-03 00:23:19', []], ['Gregg', '707470796', 'sherrystein@example.com', 'nO6ySyLH&7', 'user', '2023-09-26 13:14:03', []], ['Ashley', '135086990', 'janice79@example.net', 'kj5JYvkv(6', 'user', '2023-04-07 13:01:16', [['Shirley', '2'], ['Martin', '1']]], ['Emily', '735760245', 'thompsonrobert@example.com', '4_iLvqWu^0', 'admin', '2023-04-19 22:54:52', [['Keith', '13'], ['Sheila', '3'], ['Trevor', '5']]], ['Patricia', '636162531', 'esexton@example.net', 'eFaU94Jc#&', 'admin', '2023-03-02 16:37:42', [['Andrew', '4'], ['James', '13']]], ['Gregory', '700851384', 'cherrera@example.com', '6uH#d)l^^_', 'admin', '2023-09-19 02:36:39', []], ['Michelle', '085754742', 'rsmith@example.org', '@o5%FFExR2', 'user', '2023-03-14 09:02:22', []], ['Betty', '630570268', 'hstephenson@example.org', 'W_14V1rdyp', 'admin', '2023-01-29 03:18:13', []], ['Theresa', '+48513112467', 'annakane@example.com', 'df#vDs!#$6', 'admin', '2023-03-22 22:40:41', [['Christopher', '11'], ['Suzanne', '12'], ['Joshua', '3']]], ['Gary', '029809364', 'megan13@example.com', 'k8jO^_xK^K', 'admin', '2023-07-08 03:07:41', []], ['Justin', '678762794', 'opoole@example.org', '+3t)mSM6xX', 'admin', '2022-11-25 02:19:37', []], ['Patricia', '823816375', 'woodsjerry@example.com', 'z2Y%0Hbcsi', 'user', '2023-04-02 15:57:34', []], ['Hannah', '+48518937947', 'josenavarro@example.net', 'yw9ECcQz)P', 'admin', '2023-10-10 21:03:45', [['Anna', 18]]], ['Tiffany', '00804241616', 'kyle63@example.org', 'ywq%6FzI_o', 'user', '2023-04-08 12:26:15', [['Alan', 5]]], ['Tiffany', '00804241616', 'kyle463@example.org', 'ywq%6FzI_o', 'user', '2023-10-10 21:03:45', [['Alan', 5]]], ['Cathy', '(48)594885352', 'rubengriffin@example.com', 'Dw2Bf(Dd!q', 'user', '2023-08-27 16:39:04', []], ['Amy', '+48361568741', 'brenda74@example.org', '+vJCXfFLe0', 'admin', '2023-03-05 04:14:24', [['Sara', 8]]], ['Michael', '(48)667574950', 'kimberlymartin@example.org', 'ns6REVen+g', 'admin', '2023-11-19 20:42:33', [['Justin', 15], ['Sarah', 10]]], ['Betty', '+48762084369', 'john60@example.net', '#_ILaeXdj0', 'admin', '2023-04-13 04:43:54', []], ['Blake', '00203818382', 'kcabrera@example.net', 'gk2VM$qk@S', 'user', '2023-06-24 13:48:25', [['David', 4]]], ['Michael', '00736121560', 'ngreen@example.org', 'n(9vNQ$jqO', 'user', '2022-12-03 10:09:14', [['Michael', 17], ['Angela', 14]]], ['Amanda', '(48)208579481', 'velazquezsierra@example.org', 'F9Jf!Bs6_d', 'admin', '2023-07-20 11:53:07', [['Marie', 17], ['George', 8], ['Susan', 11]]], ['Travis', '+48905910845', 'acamacho@example.com', '_9#hlJNZcV', 'user', '2023-09-17 22:53:26', []], ['Donna', '504140673', 'ngutierrez@example.net', '@9TcRo15As', 'user', '2023-11-06 02:10:33', [['Jackie', 9], ['Mitchell', 6]]], ['Sandy', '00577969415', 'joshua75@example.org', '&T)u+DAa31', 'admin', '2023-06-02 11:12:05', [['Dorothy', 12], ['Kristen', 2]]], ['Danny', '(48)342559287', 'silvaarthur@example.com', '9q(6KpMuvS', 'admin', '2023-06-09 07:47:58', [['Kimberly', 2], ['Sarah', 4], ['David', 3]]], ['Sarah', '401629185', 'daniel61@example.com', 'WAq7M2xG&K', 'user', '2023-03-07 13:18:28', [['Michael', 8], ['Michelle', 9]]], ['Caroline', '(48)617796987', 'lisawood@example.org', '&_(8(EJ^j1', 'user', '2022-12-12 15:42:28', [['Leonard', 11]]], ['Patricia', '410836947', 'jboyd@example.org', '_9tGfwed#7', 'admin', '2023-10-23 16:46:46', []], ['Alisha', '+48701944195', 'kristen69@example.net', '%Sj6pSOl9s', 'admin', '2023-05-16 19:21:33', []], ['Molly', '838059352', 'stewartpaige@example.org', '!DWe5E*kn6', 'user', '2022-12-29 14:11:20', [['Crystal', 11], ['Robert', 12]]], ['Jamie', '00608442660', 'victoriataylor@example.net', '+Wu@Pu)y(0', 'user', '2023-04-21 05:53:16', [['Jesse', 7], ['Victor', 10], ['Jonathan', 13]]], ['Peter', '00367763447', 'destinymatthews@example.com', '*rFJC0Au@8', 'user', '2023-05-31 12:36:07', [['Catherine', 16], ['Laurie', 5]]], ['Timothy', '00553704593', 'yconley@example.com', 'r^QBH^4n+9', 'user', '2023-08-27 14:57:51', []], ['Connie', '690145953', 'pvelazquez@example.org', 'AVW*9Z)i4u', 'user', '2023-05-07 08:12:39', []], ['Michael', '(48)277615047', 'cory34@example.com', '!2VLgpDXS6', 'user', '2023-06-06 02:32:05', []], ['Curtis', '816163817', 'gharrington@example.net', 'q^oA7P$i+8', 'admin', '2023-08-02 05:10:05', [['Dustin', 3]]], ['Angela', '(48)216474381', 'kgreer@example.com', '7GRZImGp!t', 'admin', '2023-07-11 17:16:44', [['Jose', 12], ['Scott', 2], ['Olivia', 16]]], ['Ashley', '+48124252062', 'luisjohnson@example.org', '@A60KjMx7t', 'user', '2023-09-30 05:34:42', [['Belinda', 16]]], ['Brian', '(48)174746366', 'hoffmanlisa@example.net', '&Ys8nbMmUM', 'user', '2023-07-28 18:13:07', [['Victoria', 1]]], ['John', '727231114', 'nicholsamanda@example.net', 'Ns83PGcqR_', 'user', '2023-08-25 22:15:01', [['Margaret', 17], ['Gregory', 17]]], ['Tanner', '604020303', 'lowerykimberly@example.net', '6mKY!nP^+y', 'admin', '2023-08-27 23:36:00', [['Anna ', '18'], ['Mindy ', '11']]], ['Brenda', '859092651', 'johnscourtney@example.com', 'S_d0SUo&Ce', 'admin', '2023-05-11 19:29:50', [['John ', '2'], ['Christopher ', '16'], ['Courtney ', '17']]], ['Sarah', '831311035', 'christopher52@example.com', '@0iZyh6uIY', 'admin', '2023-06-15 02:30:15', []], ['Jeffrey', '987093912', 'norrissabrina@example.org', '_9fM7zav#B', 'admin', '2023-07-02 23:12:58', [['Phillip ', '16']]], ['Joan', '232756993', 'trobbins@example.net', '@%xHuZl)9l', 'admin', '2023-01-20 08:50:11', [['Karen ', '7'], ['Danielle ', '11'], ['Dustin ', '7']]], ['Tyler', '00795776161', 'litiffany@example.org', '!Y2m4%ysM4', 'user', '2023-01-02 00:48:12', []], ['Brenda', '+48946289653', '@example.com', '+1TNyc(4Cc', 'admin', '2023-05-15 08:40:10', [['Thomas ', '7'], ['Bryan ', '16']]], ['Hannah', '515347194', 'rowejennifer@@example.org', '(9Z2zW2v)u', 'user', '2023-07-14 17:31:32', []], ['Caroline', '(48)217311726', 'faulknersusan@example.net', 'L(1RUoaJDH', 'user', '2023-07-07 18:02:34', [['Dustin ', '13']]], ['Kathryn', '108835339', 'carterlindsey@example.org', '+sUVpIkkY6', 'user', '2023-11-20 07:22:51', []], ['Chad', '+48882294581', 'ronald99@example.com', 'Q3XWW+Uc*Z', 'user', '2023-10-20 03:16:47', [['Diana ', '17'], ['April ', '8'], ['James ', '17']]], ['Sean', '(48)650232530', 'gregory80@example.com', 'sXs!4Mzjx%', 'user', '2023-08-31 10:12:45', [['Dan ', '10']]], ['Jamie', '262418151', 'kcampbell@.com', 'r)5r@Msse$', 'user', '2023-04-04 10:11:05', [['Patrick ', '16'], ['Tyler ', '4']]], ['Carol', '(48)272639649', 'suzanne06@example.', '%1^JMSrzQk', 'user', '2023-10-18 10:07:20', []], ['George', '(48)681988567', 'michelle93@example.org', '+hL*hdte2H', 'admin', '2023-11-08 16:38:28', [['Samantha ', '6']]], ['Mark', '813868944', 'velasquezkeith@example.org', 'GW4Ft8zbi&', 'user', '2023-08-11 23:17:16', []], ['Brandy', '00686983157', 'andrew36@example.net', '(UVIl#9&q7', 'admin', '2022-12-04 08:30:37', [['Teresa', '4']]], ['Jeff', '920237730', 'tammy87@example.com', 'cjZ6Z%pB+_', 'user', '2023-08-25 01:39:06', [['Christopher', '2']]], ['Timothy', '279179128', 'cameronguzman@example.com', '&1WU31#v$o', 'admin', '2023-05-02 16:57:13', [['Jamie', '12']]], ['Felicia', '(48)394426853', 'alicia41@example.com', '^rf3mkTt&)', 'user', '2023-07-19 00:22:43', [['Jennifer', '2'], ['Omar', '10']]], ['Donna', '(48)893849179', 'jason92@example.org', 'Z#7VMvf%d^', 'user', '2023-03-06 15:46:08', [['Mark', '15'], ['Kimberly', '2'], ['Paul', '1']]], ['Amanda', '+48698312978', 'johnsongabrielle@example.com', 'R)c1JJtz!&', 'admin', '2023-10-24 18:32:20', [['Christopher', '15'], ['Lisa', '8'], ['Brenda', '1']]], ['Natalie', '065294113', 'vsalazar@example.com', '%dVyi^4!70', 'user', '2023-09-08 07:14:38', []], ['Mark', '00847940862', 'biancataylor@example.net', '6cUYasjf^4', 'user', '2023-06-30 10:22:59', []], ['Logan', '716290783', 'mooremorgan@example.net', '4bgDfF4t*^', 'admin', '2022-12-15 05:29:05', [['Rachel', '12'], ['Jennifer', '7'], ['Jermaine', '18']]], ['Joseph', '00756037486', 'lisa93@example.com', '!q62J8^sYb', 'user', '2023-11-13 14:10:09', []], ['Shannon', '+48121975731', 'hunter96@example.org', 'sD3NddkqB*', 'admin', '2023-04-12 22:07:59', [['Steven', '12'], ['Christine', '18'], ['Rachel', '6']]], ['Steven', '+48691250247', 'weisskristina@example.net', '9T1zNeAN(2', 'user', '2023-11-10 09:52:49', [['Jessica', '14'], ['Megan', '11'], ['Michael', '9']]], ['Mark', '967426092', 'ashleyschwartz@example.org', 'I35_C9id^P', 'admin', '2023-01-18 20:39:19', [['Tracy', '1'], ['Joseph', '1'], ['Whitney', '8']]], ['Brianna', '505400027', 'halemisty@example.net', '_r1CEmbZHe', 'admin', '2023-04-28 11:35:28', [['Sheila', '4'], ['Laurie', '12']]], ['Jeffrey', '00854869516', 'erik91@example.org', '25pEhHfx$Y', 'user', '2023-04-05 03:50:42', [['John', '15'], ['Brian', '13']]], ['Don', '612660796', 'tamara37@example.com', 'jQ66IIlR*1', 'user', '2023-08-23 23:27:09', [['Michael ', '12'], ['Theresa ', '6'], ['Judith ', '1']]], ['Arthur', nan, 'kbecker@example.org', '+y5OgajRsX', 'admin', '2023-03-18 05:25:41', []], ['Mark', '813 868 944', 'velasquezkeith@example.org', 'GW4Ft8zbi&', 'user', '2023-08-11 23:17:15', []], ['Christopher', '(48)743328816', 'alan49@example.com', 'f)1)2HvlN7', 'user', '2023-04-30 14:42:35', [['Scott ', '5'], ['James ', '9'], ['Zachary ', '8']]], ['Curtis', '00107058738', 'dennis32@example.net', '_Js5&&AbQ!', 'user', '2023-06-07 04:03:48', [['Eric ', '8'], ['Shelia ', '17']]], ['Judy', nan, 'juliegonzalez@example.com', '$@#^91Xz22', 'user', '2023-02-13 23:21:54', [['Megan ', '13'], ['Raymond ', '2'], ['Bethany ', '9']]], ['David', '00463078584', 'tony08@example.net', '(KJiF0yPB6', 'user', '2023-04-27 10:05:56', [['Dean ', '17'], ['Brittany ', '6']]], ['Cassandra', '088691177', 'ashleyhall@example.net', '#0R0UT&yw2', 'admin', '2023-01-14 22:11:14', [['Joshua ', '1'], ['Brittany ', '14']]], ['Erica', '(48)585173108', 'jonathan22@example.com', 'DG8Xok77#6', 'user', '2023-10-12 17:20:35', [['Denise ', '7'], ['Kyle ', '4'], ['Roberto ', '4']]], ['Madeline', '00441935720', 'matthewdecker@example.com', '2p$v9zPt1+', 'user', '2022-12-05 04:34:17', [['Jonathan ', '1'], ['Natalie ', '11']]], ['Ebony', '289862947', 'riggsbruce@example.org', '@5j%ih7y!R', 'user', '2023-05-30 04:45:13', [['Deanna ', '3']]], ['James', '+48784578915', 'erica90@example.net', '8UZLqatV%8', 'admin', '2023-05-30 04:01:59', []], ['Sandra', '+48267687714', 'levi49@example.org', ')*0v4YCgU!', 'user', '2023-03-01 15:40:39', [['Robert ', '9']]], ['Eric', '00110355347', 'zeverett@example.org', 'n@8AymNdC*', 'admin', '2023-04-01 23:40:05', [['Mary ', '1'], ['Mary ', '15'], ['Evan ', '2']]], ['Kevin', '227397825', 'greenmadison@example.net', '&S1XUo94)k', 'admin', '2023-02-11 14:29:37', [['Kristin ', '14']]], ['Cassandra', '088691177', 'ashleyhall@example.net', '#0R0UT&yw2', 'admin', '2023-01-14 22:11:15', [['Joshua ', '1'], ['Brittany ', '14']]], ['Erica', '(48)585173108', 'jonathan22@example.com', 'DG8Xok77#6', 'user', '2023-10-12 17:20:30', [['Denise ', '7'], ['Kyle ', '4'], ['Roberto ', '4']]], ['Madeline', '00441935720', 'matthewdecker2@example.com', '2p$v9zPt1+', 'user', '2022-12-05 04:34:20', [['Jonathan ', '1'], ['Natalie ', '11']]], ['Ebony', '289862947', 'riggsbruce3@example.org', '@5j%ih7y!R', 'user', '2023-05-30 04:45:20', [['Deanna ', '3']]], ['Tyler', '00795776161', 'litiffany@example.org', '!Y2m4%ysM4', 'user', '2023-01-02 00:48:15', []]]\n"
     ]
    }
   ],
   "source": [
    "print(data)"
   ]
  },
  {
   "cell_type": "markdown",
   "metadata": {},
   "source": [
    "entity loader"
   ]
  },
  {
   "cell_type": "code",
   "execution_count": 98,
   "metadata": {},
   "outputs": [],
   "source": [
    "from entities.User import User\n",
    "from entities.Child import Child\n",
    "from DataLoader import DataLoader, get_string_between\n",
    "from datetime import datetime\n",
    "\n",
    "def validate_email(email):\n",
    "    first= email.count('@') == 1\n",
    "    second = len(email.split('@')[0])>0\n",
    "    third = len(get_string_between(email, '@', '.'))>0\n",
    "    dot_sentence_length=len(email.split('.')[-1])\n",
    "    fourth = email[-dot_sentence_length:].isalnum() and (dot_sentence_length>0 and dot_sentence_length<5)\n",
    "    if first and second and third and fourth:\n",
    "        return True\n",
    "    else:\n",
    "        return False\n",
    "\n",
    "\n",
    "\n",
    "data_loader=DataLoader()\n",
    "data=data_loader.load_data()\n",
    "final_data=[]\n",
    "phone_numbers=[]\n",
    "for index, user_data in enumerate(data):\n",
    "    if validate_email(user_data[2]):\n",
    "        if type(user_data[1])==str:\n",
    "            phone_number_str=user_data[1].replace(\" \", \"\")\n",
    "            phone_number_start_index=len(phone_number_str)-9\n",
    "            phone_number=phone_number_str[phone_number_start_index:]\n",
    "            phone_number=int(phone_number)\n",
    "            final_data.append([user_data[0], phone_number, user_data[2], user_data[3], user_data[4], datetime.strptime(user_data[5], '%Y-%m-%d %H:%M:%S'), user_data[6], index])\n",
    "def myKey(s):\n",
    "    return s[1]\n",
    "final_data.sort(key=myKey)\n",
    "old_phone=0\n",
    "sublist=[]\n",
    "phones_for_sublist=[]\n",
    "to_delete=[]\n",
    "for index, data in enumerate(final_data):\n",
    "    if data[1] in phones_for_sublist:\n",
    "        sublist.append(data)\n",
    "    else:\n",
    "        def myKey(s):\n",
    "            return s[5]\n",
    "        sublist.sort(key=myKey)\n",
    "        if len(sublist)>1:\n",
    "            for item in sublist[:-1]:\n",
    "                to_delete.append(item[7])\n",
    "        sublist=[data]\n",
    "        phones_for_sublist.append(data[1])\n",
    "    old_phone=data[1]\n",
    "\n",
    "to_delete.sort()\n",
    "result=[]\n",
    "def myKey(s):\n",
    "    return s[7]\n",
    "final_data.sort(key=myKey)\n",
    "for index, item in enumerate(final_data):\n",
    "    if not index in to_delete:\n",
    "        children=[]\n",
    "        for item_1 in item[6]:\n",
    "            child=Child(item_1[0], int(item_1[1]))\n",
    "            children.append(child)\n",
    "        user=User(item[0], item[1], item[2], item[3], item[4], item[5], children)\n",
    "        result.append(user)\n"
   ]
  },
  {
   "cell_type": "code",
   "execution_count": 100,
   "metadata": {},
   "outputs": [
    {
     "data": {
      "text/plain": [
       "85"
      ]
     },
     "execution_count": 100,
     "metadata": {},
     "output_type": "execute_result"
    }
   ],
   "source": [
    "len(result)\n"
   ]
  },
  {
   "cell_type": "code",
   "execution_count": 44,
   "metadata": {},
   "outputs": [],
   "source": [
    "from EntityLoader import EntityLoader\n",
    "data=EntityLoader().load_entities()"
   ]
  },
  {
   "cell_type": "code",
   "execution_count": 56,
   "metadata": {},
   "outputs": [
    {
     "data": {
      "text/plain": [
       "'%ML4fCTmiz'"
      ]
     },
     "execution_count": 56,
     "metadata": {},
     "output_type": "execute_result"
    }
   ],
   "source": [
    "data[2].get_password()"
   ]
  },
  {
   "cell_type": "code",
   "execution_count": 42,
   "metadata": {},
   "outputs": [],
   "source": [
    "def print_all_accounts(data):\n",
    "    print(len(data))\n",
    "\n",
    "def print_oldest_account(data):\n",
    "    def myKey(s):\n",
    "        return s.get_createdAt()\n",
    "    data_2=data.copy()\n",
    "    data_2.sort(key=myKey)\n",
    "    oldest=data_2[0]\n",
    "    print(\"name: \"+oldest.get_firstName())\n",
    "    print(\"email_address: \"+oldest.get_email())\n",
    "    print(f\"created_at: {oldest.get_createdAt()}\")\n",
    "\n",
    "def group_children_by_age(data):\n",
    "    children_list=[]\n",
    "    for user in data:\n",
    "        if user.get_children()!=[]:\n",
    "            for child in user.get_children():\n",
    "                children_list.append(child)\n",
    "    def myKey(s):\n",
    "        return -s.get_age()\n",
    "    children_list.sort(key=myKey)\n",
    "    age=children_list[0].get_age()\n",
    "    counter=0\n",
    "    counters=[]\n",
    "    ages=[age]\n",
    "    for index, child in enumerate(children_list):\n",
    "        if age==child.get_age():\n",
    "            counter+=1\n",
    "        else:\n",
    "            counters.append(counter)\n",
    "            age=child.get_age()\n",
    "            ages.append(child.get_age())\n",
    "            counter=1\n",
    "        if index==len(children_list)-1:\n",
    "            counters.append(counter)\n",
    "    sort_list=[]\n",
    "    for index, item in enumerate(counters):\n",
    "        sort_list.append([item, ages[index]])\n",
    "    sort_list.sort()\n",
    "    for counter, age in (sort_list):\n",
    "        print(\"age: \"+str(age)+\", count: \"+str(counter))\n",
    "\n",
    "def print_children(user_data):\n",
    "    children_list=user_data.get_children()\n",
    "    if children_list==[]:\n",
    "        print(\"No children assigned to this user\")\n",
    "    else:\n",
    "        def myKey(s):\n",
    "            return s.get_name()[0]\n",
    "        children_list.sort(key=myKey)\n",
    "        for child in children_list:\n",
    "            print(child.get_name()+\", \"+str(child.get_age()))\n",
    "\n",
    "def find_similar_children_by_age(user_data, data):\n",
    "    ages_to_find=[]\n",
    "    children=user_data.get_children()\n",
    "    if children==[]:\n",
    "        print(\"No children assigned to this user\")\n",
    "    else:\n",
    "        for child in children:\n",
    "            ages_to_find.append(child.get_age())\n",
    "    result_data=[]\n",
    "    for user in data:\n",
    "        children_found=[]\n",
    "        for child in user.get_children():\n",
    "            if child.get_age() in ages_to_find:\n",
    "                children_found.append([child.get_name(), child.get_age()])\n",
    "        if children_found!=[]:\n",
    "            result_data.append([user.get_firstName(), user.get_telephone_number(), children_found])\n",
    "    for result in result_data:\n",
    "        children_str=\"\"\n",
    "        children_found=result[2]\n",
    "        for index, child_data in enumerate(children_found):\n",
    "            children_str+=(f'{child_data[0]}, {child_data[1]}')\n",
    "            if index<len(children_found)-1:\n",
    "                children_str+='; '\n",
    "        print(result[0]+\", \"+str(result[1])+\": \"+children_str)"
   ]
  },
  {
   "cell_type": "code",
   "execution_count": 43,
   "metadata": {},
   "outputs": [
    {
     "name": "stdout",
     "output_type": "stream",
     "text": [
      "Russell, 817730653: Rebecca, 11; Christie, 17\n",
      "Bryan, 242024650: Frank, 11\n",
      "Theresa, 513112467: Christopher, 11\n",
      "Michael, 736121560: Michael, 17\n",
      "Amanda, 208579481: Marie, 17; Susan, 11\n",
      "Caroline, 617796987: Leonard, 11\n",
      "Molly, 838059352: Crystal, 11\n",
      "John, 727231114: Margaret, 17; Gregory, 17\n",
      "Tanner, 604020303: Mindy , 11\n",
      "Brenda, 859092651: Courtney , 17\n",
      "Joan, 232756993: Danielle , 11\n",
      "Chad, 882294581: Diana , 17; James , 17\n",
      "Steven, 691250247: Megan, 11\n",
      "Curtis, 107058738: Shelia , 17\n",
      "David, 463078584: Dean , 17\n",
      "Madeline, 441935720: Natalie , 11\n",
      "Madeline, 441935720: Natalie , 11\n"
     ]
    }
   ],
   "source": [
    "find_similar_children_by_age(data[0],data)"
   ]
  }
 ],
 "metadata": {
  "kernelspec": {
   "display_name": "Python 3",
   "language": "python",
   "name": "python3"
  },
  "language_info": {
   "codemirror_mode": {
    "name": "ipython",
    "version": 3
   },
   "file_extension": ".py",
   "mimetype": "text/x-python",
   "name": "python",
   "nbconvert_exporter": "python",
   "pygments_lexer": "ipython3",
   "version": "3.8.9"
  }
 },
 "nbformat": 4,
 "nbformat_minor": 2
}
